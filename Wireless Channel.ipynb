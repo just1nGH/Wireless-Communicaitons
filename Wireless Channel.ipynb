{
 "cells": [
  {
   "cell_type": "markdown",
   "metadata": {},
   "source": [
    "# Transmitted signal in passband"
   ]
  },
  {
   "cell_type": "markdown",
   "metadata": {},
   "source": [
    "**Transmitted signal in passband:**\n",
    "\\begin{align*}\n",
    "s(t) & = a \\cos(2\\pi f_c t+ \\theta)\\\\\n",
    "     & = a \\cos\\theta \\cos(2\\pi f_c t) -a\\sin \\theta \\sin(2\\pi f_c t)\\\\\n",
    "     & = s_I(t)\\cos(2\\pi f_c t) -s_Q(t) \\sin(2\\pi f_c t)\\\\\n",
    "     & = \\Re\\{(s_I(t) + js_Q(t))e^{j2\\pi f_c t}\\}\n",
    "\\end{align*}"
   ]
  },
  {
   "cell_type": "markdown",
   "metadata": {},
   "source": [
    "where $s_I(t)$ and $s_Q(t)$ is lowpass (baseband) signals of bandwidth $B \\leq f_c$. We can obtain transmitted signal by modulating carrier $\\cos(2\\pi f_c t)$ by $a$ and change phase by $\\theta$. Different pair of ($a,\\theta$) can be used to carry information. However, changing phase in high frequency region is not practical in terms of implementatiopn. In real implementataion, we take in-phase component $a\\cos\\theta$ and quadarature component $a \\sin \\theta$ and modulte carriers $\\cos(2\\pi f_c t)$ and $\\sin(2\\pi f_c t)$ respectively and then sum them together to generate transmitted signal.Mathmatically, we can consider a complex carrier $e^{j 2 \\pi f_c t}$ modulated by a complex babeband siganl $a\\cos \\theta +a\\sin \\theta$ to obatin an complex passband signal, followed by extracting the real part of the signal to have the transmitted real signal."
   ]
  },
  {
   "cell_type": "code",
   "execution_count": null,
   "metadata": {
    "collapsed": true
   },
   "outputs": [],
   "source": []
  }
 ],
 "metadata": {
  "kernelspec": {
   "display_name": "Python 3",
   "language": "python",
   "name": "python3"
  },
  "language_info": {
   "codemirror_mode": {
    "name": "ipython",
    "version": 3
   },
   "file_extension": ".py",
   "mimetype": "text/x-python",
   "name": "python",
   "nbconvert_exporter": "python",
   "pygments_lexer": "ipython3",
   "version": "3.4.0"
  }
 },
 "nbformat": 4,
 "nbformat_minor": 2
}
